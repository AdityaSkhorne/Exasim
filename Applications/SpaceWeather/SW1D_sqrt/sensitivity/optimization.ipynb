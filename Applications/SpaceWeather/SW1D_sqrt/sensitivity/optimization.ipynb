{
 "cells": [
  {
   "cell_type": "code",
   "execution_count": 1,
   "id": "0ed41715",
   "metadata": {},
   "outputs": [],
   "source": [
    "from optlang import Model, Variable, Constraint, Objective"
   ]
  },
  {
   "cell_type": "markdown",
   "id": "63ae84d2",
   "metadata": {},
   "source": [
    "The variance of the bifidelity variance estimator when $K=2$ is given by \n",
    "\\begin{align}\n",
    "    \\mathbb{V}\\mathrm{ar}[\\hat{V}_{\\mathrm{bf}}] &= \\frac{1}{m_{1}} \\left(\\delta_{1} - \\frac{m_{1} - 3}{m_{1} -1} \\sigma_{1}^{4}\\right)\\\\ &+ \\alpha_{2}^2 \\left( \\frac{1}{m_{1}} (\\delta_{2} - \\frac{m_{1} - 3}{m_{1} -1} \\sigma_{2}^{4}) -\\frac{1}{m_{2}} (\\delta_{2} - \\frac{m_{2} -3}{m_{2}-1} \\sigma_{2}^{4})\\right)\\\\\n",
    "    &+ 2 \\alpha_{2} \\left(\\frac{1}{m_{2}}(q_{1, 2} \\tau_{1} \\tau_{2} + \\frac{2}{m_{2}-1} \\rho_{1, 2}^2 \\sigma_{1}^2 \\sigma_{2}^2) -\\frac{1}{m_{1}}(q_{1, 2} \\tau_{1}\\tau_{2} + \\frac{2}{m_{1}-1} \\rho_{1, 2}^{2}\\sigma_{1}^{2} \\sigma_{2}^{2})\\right).\n",
    "\\end{align}"
   ]
  },
  {
   "cell_type": "code",
   "execution_count": 3,
   "id": "c29295c0",
   "metadata": {},
   "outputs": [],
   "source": [
    "# estimated quantities\n",
    "w2 = 0.11\n",
    "p = 10000\n",
    "rho1 = 0.99\n",
    "sigma1 = 10\n",
    "sigma2 = 10\n",
    "delta1 = 12\n",
    "delta2 = 13\n",
    "q2 = 20\n",
    "tau12 = 100"
   ]
  },
  {
   "cell_type": "code",
   "execution_count": 10,
   "id": "1ec0226a",
   "metadata": {},
   "outputs": [
    {
     "ename": "ValueError",
     "evalue": "GLPK only supports linear objectives. Minimize\n1.0*alpha_{1}**2*(-(-10000*(m_{2} - 3)/(m_{2} - 1) + 13)/m_{2} + (-10000*(m_{1} - 3)/(m_{1} - 1) + 13)/m_{1}) + 2.0*alpha_{1}*((2000 + 19602.0/(m_{2} - 1))/m_{2} - (2000 + 19602.0/(m_{1} - 1))/m_{1}) + 1.0*(-10000*(m_{1} - 3)/(m_{1} - 1) + 12)/m_{1} is not linear.",
     "output_type": "error",
     "traceback": [
      "\u001b[0;31m---------------------------------------------------------------------------\u001b[0m",
      "\u001b[0;31mValueError\u001b[0m                                Traceback (most recent call last)",
      "Input \u001b[0;32mIn [10]\u001b[0m, in \u001b[0;36m<cell line: 15>\u001b[0;34m()\u001b[0m\n\u001b[1;32m     12\u001b[0m term2 \u001b[38;5;241m=\u001b[39m alpha1\u001b[38;5;241m*\u001b[39m\u001b[38;5;241m*\u001b[39m\u001b[38;5;241m2\u001b[39m \u001b[38;5;241m*\u001b[39m (\u001b[38;5;241m1\u001b[39m\u001b[38;5;241m/\u001b[39mm1 \u001b[38;5;241m*\u001b[39m (delta2 \u001b[38;5;241m-\u001b[39m ((m1\u001b[38;5;241m-\u001b[39m\u001b[38;5;241m3\u001b[39m)\u001b[38;5;241m/\u001b[39m(m1\u001b[38;5;241m-\u001b[39m\u001b[38;5;241m1\u001b[39m))\u001b[38;5;241m*\u001b[39msigma2\u001b[38;5;241m*\u001b[39m\u001b[38;5;241m*\u001b[39m\u001b[38;5;241m4\u001b[39m) \u001b[38;5;241m-\u001b[39m \u001b[38;5;241m1\u001b[39m\u001b[38;5;241m/\u001b[39mm2 \u001b[38;5;241m*\u001b[39m (delta2 \u001b[38;5;241m-\u001b[39m ((m2\u001b[38;5;241m-\u001b[39m\u001b[38;5;241m3\u001b[39m)\u001b[38;5;241m/\u001b[39m(m2\u001b[38;5;241m-\u001b[39m\u001b[38;5;241m1\u001b[39m))\u001b[38;5;241m*\u001b[39msigma2\u001b[38;5;241m*\u001b[39m\u001b[38;5;241m*\u001b[39m\u001b[38;5;241m4\u001b[39m))\n\u001b[1;32m     13\u001b[0m term3 \u001b[38;5;241m=\u001b[39m \u001b[38;5;241m2\u001b[39m\u001b[38;5;241m*\u001b[39malpha1 \u001b[38;5;241m*\u001b[39m (\u001b[38;5;241m1\u001b[39m\u001b[38;5;241m/\u001b[39mm2 \u001b[38;5;241m*\u001b[39m (q2\u001b[38;5;241m*\u001b[39mtau12 \u001b[38;5;241m+\u001b[39m \u001b[38;5;241m2\u001b[39m\u001b[38;5;241m*\u001b[39m((rho1\u001b[38;5;241m*\u001b[39msigma1\u001b[38;5;241m*\u001b[39msigma2)\u001b[38;5;241m*\u001b[39m\u001b[38;5;241m*\u001b[39m\u001b[38;5;241m2\u001b[39m)\u001b[38;5;241m/\u001b[39m(m2\u001b[38;5;241m-\u001b[39m\u001b[38;5;241m1\u001b[39m))  \u001b[38;5;241m-\u001b[39m \u001b[38;5;241m1\u001b[39m\u001b[38;5;241m/\u001b[39mm1 \u001b[38;5;241m*\u001b[39m (q2\u001b[38;5;241m*\u001b[39mtau12 \u001b[38;5;241m+\u001b[39m \u001b[38;5;241m2\u001b[39m\u001b[38;5;241m*\u001b[39m((rho1\u001b[38;5;241m*\u001b[39msigma1\u001b[38;5;241m*\u001b[39msigma2)\u001b[38;5;241m*\u001b[39m\u001b[38;5;241m*\u001b[39m\u001b[38;5;241m2\u001b[39m)\u001b[38;5;241m/\u001b[39m(m1\u001b[38;5;241m-\u001b[39m\u001b[38;5;241m1\u001b[39m))) \n\u001b[0;32m---> 15\u001b[0m obj \u001b[38;5;241m=\u001b[39m \u001b[43mObjective\u001b[49m\u001b[43m(\u001b[49m\u001b[43mterm1\u001b[49m\u001b[38;5;241;43m+\u001b[39;49m\u001b[43mterm2\u001b[49m\u001b[38;5;241;43m+\u001b[39;49m\u001b[43mterm3\u001b[49m\u001b[43m,\u001b[49m\u001b[43m \u001b[49m\u001b[43mdirection\u001b[49m\u001b[38;5;241;43m=\u001b[39;49m\u001b[38;5;124;43m'\u001b[39;49m\u001b[38;5;124;43mmin\u001b[39;49m\u001b[38;5;124;43m'\u001b[39;49m\u001b[43m)\u001b[49m\n\u001b[1;32m     17\u001b[0m \u001b[38;5;66;03m# Variables, constraints and objective are combined in a Model object, which can subsequently be optimized.\u001b[39;00m\n\u001b[1;32m     18\u001b[0m model \u001b[38;5;241m=\u001b[39m Model(name\u001b[38;5;241m=\u001b[39m\u001b[38;5;124m'\u001b[39m\u001b[38;5;124mMFMC\u001b[39m\u001b[38;5;124m'\u001b[39m)\n",
      "File \u001b[0;32m/opt/anaconda3/envs/uq_proj/lib/python3.10/site-packages/optlang/glpk_interface.py:310\u001b[0m, in \u001b[0;36mObjective.__init__\u001b[0;34m(self, expression, sloppy, **kwargs)\u001b[0m\n\u001b[1;32m    308\u001b[0m \u001b[38;5;28mself\u001b[39m\u001b[38;5;241m.\u001b[39m_expression_expired \u001b[38;5;241m=\u001b[39m \u001b[38;5;28;01mFalse\u001b[39;00m\n\u001b[1;32m    309\u001b[0m \u001b[38;5;28;01mif\u001b[39;00m \u001b[38;5;129;01mnot\u001b[39;00m (sloppy \u001b[38;5;129;01mor\u001b[39;00m \u001b[38;5;28mself\u001b[39m\u001b[38;5;241m.\u001b[39mis_Linear):\n\u001b[0;32m--> 310\u001b[0m     \u001b[38;5;28;01mraise\u001b[39;00m \u001b[38;5;167;01mValueError\u001b[39;00m(\n\u001b[1;32m    311\u001b[0m         \u001b[38;5;124m\"\u001b[39m\u001b[38;5;124mGLPK only supports linear objectives. \u001b[39m\u001b[38;5;132;01m%s\u001b[39;00m\u001b[38;5;124m is not linear.\u001b[39m\u001b[38;5;124m\"\u001b[39m \u001b[38;5;241m%\u001b[39m \u001b[38;5;28mself\u001b[39m)\n",
      "\u001b[0;31mValueError\u001b[0m: GLPK only supports linear objectives. Minimize\n1.0*alpha_{1}**2*(-(-10000*(m_{2} - 3)/(m_{2} - 1) + 13)/m_{2} + (-10000*(m_{1} - 3)/(m_{1} - 1) + 13)/m_{1}) + 2.0*alpha_{1}*((2000 + 19602.0/(m_{2} - 1))/m_{2} - (2000 + 19602.0/(m_{1} - 1))/m_{1}) + 1.0*(-10000*(m_{1} - 3)/(m_{1} - 1) + 12)/m_{1} is not linear."
     ]
    }
   ],
   "source": [
    "# All the (symbolic) variables are declared, with a name and optionally a lower and/or upper bound.\n",
    "m1 = Variable('m_{1}', lb=0, type=\"continuous\")\n",
    "m2 = Variable('m_{2}', lb=0, type=\"continuous\")\n",
    "alpha1 = Variable('alpha_{1}', type=\"continuous\")\n",
    "\n",
    "# A constraint is constructed from an expression of variables and a lower and/or upper bound (lb and ub).\n",
    "c1 = Constraint(m1 + w2*m2, ub=p)\n",
    "c2 = Constraint(m2-m1, ub=0)\n",
    "\n",
    "# An objective can be formulated\n",
    "term1 = (1/m1) * (delta1 - (m1-3)/(m1-1)*sigma1**4)\n",
    "term2 = alpha1**2 * (1/m1 * (delta2 - ((m1-3)/(m1-1))*sigma2**4) - 1/m2 * (delta2 - ((m2-3)/(m2-1))*sigma2**4))\n",
    "term3 = 2*alpha1 * (1/m2 * (q2*tau12 + 2*((rho1*sigma1*sigma2)**2)/(m2-1))  - 1/m1 * (q2*tau12 + 2*((rho1*sigma1*sigma2)**2)/(m1-1))) \n",
    "\n",
    "obj = Objective(term1+term2+term3, direction='min')\n",
    "\n",
    "# Variables, constraints and objective are combined in a Model object, which can subsequently be optimized.\n",
    "model = Model(name='MFMC')\n",
    "model.objective = obj\n",
    "model.add([c1, c2])\n",
    "status = model.optimize()\n",
    "print(\"status:\", model.status)\n",
    "print(\"objective value:\", model.objective.value)\n",
    "print(\"----------\")\n",
    "for var_name, var in model.variables.items():\n",
    "    print(var_name, \"=\", var.primal)"
   ]
  },
  {
   "cell_type": "code",
   "execution_count": null,
   "id": "a763ebdd",
   "metadata": {},
   "outputs": [],
   "source": []
  },
  {
   "cell_type": "code",
   "execution_count": null,
   "id": "01ab9a20",
   "metadata": {},
   "outputs": [],
   "source": []
  }
 ],
 "metadata": {
  "kernelspec": {
   "display_name": "Python 3 (ipykernel)",
   "language": "python",
   "name": "python3"
  },
  "language_info": {
   "codemirror_mode": {
    "name": "ipython",
    "version": 3
   },
   "file_extension": ".py",
   "mimetype": "text/x-python",
   "name": "python",
   "nbconvert_exporter": "python",
   "pygments_lexer": "ipython3",
   "version": "3.10.4"
  }
 },
 "nbformat": 4,
 "nbformat_minor": 5
}
